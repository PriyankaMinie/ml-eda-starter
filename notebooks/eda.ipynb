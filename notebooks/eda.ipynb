{
 "cells": [
  {
   "cell_type": "code",
   "execution_count": null,
   "id": "de4b52c6",
   "metadata": {},
   "outputs": [
    {
     "data": {
      "text/plain": [
       "Survived\n",
       "0    0.616162\n",
       "1    0.383838\n",
       "Name: proportion, dtype: float64"
      ]
     },
     "execution_count": 4,
     "metadata": {},
     "output_type": "execute_result"
    }
   ],
   "source": [
    "import pandas as pd\n",
    "import seaborn as sns\n",
    "import matplotlib.pyplot as plt\n",
    "\n",
    "import sys\n",
    "sys.path.append('../src')\n",
    "from data_cleaning import clean_data\n",
    "\n",
    "\n",
    "df_train = pd.read_csv('C:/Users/hp/Documents/ML-EDA-STARTER/data/train.csv') \n",
    "df_train.head()  # display the first 5 rows\n",
    "df_train.shape   # display the number of rows and columns\n",
    "df_train.columns # display the column names\n",
    "df_train.dtypes  # display the data types of each column\n",
    "df_train.isnull().sum() # display the number of missing values in each column\n",
    "df_train.describe()     # display the summary statistics of each numeric column\n",
    "df_train['Sex'].value_counts() # display the count of each unique value in the 'Sex' column\n",
    "df_train['Embarked'].value_counts() # display the count of each unique value in the 'Embarked' column\n",
    "df_train['Pclass'].value_counts()   # display the count of each unique value in the 'Pclass' column\n",
    "df_train['Survived'].value_counts(normalize=True) # display the percentage of each unique value in the 'Survived' column\n",
    "\n",
    "\n",
    "\n",
    "\n",
    "df_train = pd.read_csv('../data/train.csv')\n",
    "df_clean = clean_data(df_train)\n",
    "df_clean.head()\n",
    "\n",
    "\n",
    "\n",
    "\n",
    "\n"
   ]
  }
 ],
 "metadata": {
  "kernelspec": {
   "display_name": "Python 3",
   "language": "python",
   "name": "python3"
  },
  "language_info": {
   "codemirror_mode": {
    "name": "ipython",
    "version": 3
   },
   "file_extension": ".py",
   "mimetype": "text/x-python",
   "name": "python",
   "nbconvert_exporter": "python",
   "pygments_lexer": "ipython3",
   "version": "3.11.1"
  }
 },
 "nbformat": 4,
 "nbformat_minor": 5
}
